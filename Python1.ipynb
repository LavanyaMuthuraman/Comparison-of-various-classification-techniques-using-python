{
  "nbformat": 4,
  "nbformat_minor": 0,
  "metadata": {
    "colab": {
      "name": "Python1.ipynb",
      "provenance": [],
      "authorship_tag": "ABX9TyOsOzqBpPBRA5Wv/c4GATAp",
      "include_colab_link": true
    },
    "kernelspec": {
      "name": "python3",
      "display_name": "Python 3"
    },
    "language_info": {
      "name": "python"
    }
  },
  "cells": [
    {
      "cell_type": "markdown",
      "metadata": {
        "id": "view-in-github",
        "colab_type": "text"
      },
      "source": [
        "<a href=\"https://colab.research.google.com/github/LavanyaMuthuraman/Comparison-of-various-classification-techniques-using-python/blob/main/Python1.ipynb\" target=\"_parent\"><img src=\"https://colab.research.google.com/assets/colab-badge.svg\" alt=\"Open In Colab\"/></a>"
      ]
    },
    {
      "cell_type": "code",
      "execution_count": 1,
      "metadata": {
        "colab": {
          "base_uri": "https://localhost:8080/"
        },
        "id": "qkPOVgLtdgzO",
        "outputId": "eba08729-25d1-44d6-abf1-4975d5a1c714"
      },
      "outputs": [
        {
          "name": "stdout",
          "output_type": "stream",
          "text": [
            "Enter the first number:7\n",
            "Enter the second number:8\n"
          ]
        }
      ],
      "source": [
        "n1= int(input('Enter the first number:'))\n",
        "n2 = int(input('Enter the second number:'))"
      ]
    },
    {
      "cell_type": "code",
      "source": [
        "##writefile script.py\n",
        "if n1>n2:\n",
        "  print('The number',n1,'is greater than',n2) \n",
        "else:\n",
        "  print('The number',n2,'is greater than',n1)"
      ],
      "metadata": {
        "colab": {
          "base_uri": "https://localhost:8080/"
        },
        "id": "yClrrwEegjo4",
        "outputId": "e1ea2040-6b74-4036-c2aa-c58fc6e5b07a"
      },
      "execution_count": 2,
      "outputs": [
        {
          "output_type": "stream",
          "name": "stdout",
          "text": [
            "The number 8 is greater than 7\n"
          ]
        }
      ]
    },
    {
      "cell_type": "code",
      "source": [
        "##writefile -a script.py\n",
        "if n1<n2:\n",
        "  print('The number',n1,'is smaller than',n2) \n",
        "else:\n",
        "  print('The number',n2,'is smaller than',n1)"
      ],
      "metadata": {
        "colab": {
          "base_uri": "https://localhost:8080/"
        },
        "id": "njC0eDRcgq03",
        "outputId": "d893392e-04f2-4484-f16d-78b0a5b76633"
      },
      "execution_count": 3,
      "outputs": [
        {
          "output_type": "stream",
          "name": "stdout",
          "text": [
            "The number 7 is smaller than 8\n"
          ]
        }
      ]
    }
  ]
}